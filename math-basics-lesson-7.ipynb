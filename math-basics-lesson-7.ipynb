{
 "cells": [
  {
   "cell_type": "markdown",
   "id": "3b8b6161",
   "metadata": {},
   "source": [
    "# дз 7 часть 2 Корягина Алена"
   ]
  },
  {
   "cell_type": "code",
   "execution_count": 36,
   "id": "679b682b",
   "metadata": {},
   "outputs": [],
   "source": [
    "import numpy as np\n",
    "import matplotlib.pyplot as plt\n",
    "import scipy \n",
    "import scipy.linalg "
   ]
  },
  {
   "cell_type": "markdown",
   "id": "595cab4b",
   "metadata": {},
   "source": [
    "## 1"
   ]
  },
  {
   "cell_type": "code",
   "execution_count": 4,
   "id": "7fe9fad0",
   "metadata": {},
   "outputs": [
    {
     "data": {
      "text/plain": [
       "array([-9.2       ,  0.9       ,  6.46666667])"
      ]
     },
     "execution_count": 4,
     "metadata": {},
     "output_type": "execute_result"
    }
   ],
   "source": [
    "A = np.array([[1, 2, 3], [4, 0, 6], [7, 8, 9]])\n",
    "B = np.array([12, 2, 1])\n",
    "np.linalg.solve(A, B)"
   ]
  },
  {
   "cell_type": "raw",
   "id": "69347e3f",
   "metadata": {},
   "source": [
    "ответ: Х = [-9.2       ,  0.9       ,  6.46666667]"
   ]
  },
  {
   "cell_type": "markdown",
   "id": "9877d7a8",
   "metadata": {},
   "source": [
    "## 2"
   ]
  },
  {
   "cell_type": "code",
   "execution_count": 10,
   "id": "ad34f011",
   "metadata": {},
   "outputs": [
    {
     "name": "stderr",
     "output_type": "stream",
     "text": [
      "/tmp/ipykernel_52936/2275188674.py:3: FutureWarning: `rcond` parameter will change to the default of machine precision times ``max(M, N)`` where M and N are the input matrix dimensions.\n",
      "To use the future default and silence this warning we advise to pass `rcond=None`, to keep using the old, explicitly pass `rcond=-1`.\n",
      "  np.linalg.lstsq(A, B)\n"
     ]
    },
    {
     "data": {
      "text/plain": [
       "(array([ 1.19569081, -0.78588133, -0.72782264]),\n",
       " array([0.50512924]),\n",
       " 3,\n",
       " array([14.79417262,  9.36986633,  1.82703628]))"
      ]
     },
     "execution_count": 10,
     "metadata": {},
     "output_type": "execute_result"
    }
   ],
   "source": [
    "A = np.array([[1, 2, -1], [3, -4, 0], [8, -5, 2], [11, 4, -7]], float)\n",
    "B = np.array([1, 7, 12, 15]) \n",
    "np.linalg.lstsq(A, B)"
   ]
  },
  {
   "cell_type": "raw",
   "id": "3cc91dca",
   "metadata": {},
   "source": [
    "ответ: СЛАУ переопределена и имеет псевдорешение - [ 1.19569081, -0.78588133, -0.72782264]"
   ]
  },
  {
   "cell_type": "markdown",
   "id": "ebc7a782",
   "metadata": {},
   "source": [
    "## 3"
   ]
  },
  {
   "cell_type": "code",
   "execution_count": 34,
   "id": "f6499bff",
   "metadata": {},
   "outputs": [
    {
     "name": "stdout",
     "output_type": "stream",
     "text": [
      "0.0\n",
      "[[ 1  2  3 12]\n",
      " [ 4  5  6  2]\n",
      " [ 7  8  9  1]]\n"
     ]
    },
    {
     "data": {
      "text/plain": [
       "(2, 3)"
      ]
     },
     "execution_count": 34,
     "metadata": {},
     "output_type": "execute_result"
    }
   ],
   "source": [
    "A = np.array([[1, 2, 3], [4, 5, 6], [7, 8, 9]])\n",
    "B = np.array([[12, 2, 1]])\n",
    "print(np.linalg.det(A))\n",
    "C = np.concatenate((A,B.T), axis=1)\n",
    "print (C)\n",
    "np.linalg.matrix_rank(A, 0.0001), np.linalg.matrix_rank(C, 0.0001)"
   ]
  },
  {
   "cell_type": "raw",
   "id": "2b199f37",
   "metadata": {},
   "source": [
    "Определитель этой матрицы равен 0, и т.к. ранг расширеной матрицы не совпадает с первоначальной, значит СЛАУ не имеет решений.\n",
    "Изменим вектор правой части на нули, система станет совместной."
   ]
  },
  {
   "cell_type": "code",
   "execution_count": 32,
   "id": "703e74c7",
   "metadata": {},
   "outputs": [
    {
     "name": "stdout",
     "output_type": "stream",
     "text": [
      "[[1 2 3 0]\n",
      " [4 5 6 0]\n",
      " [7 8 9 0]]\n"
     ]
    },
    {
     "data": {
      "text/plain": [
       "(2, 2)"
      ]
     },
     "execution_count": 32,
     "metadata": {},
     "output_type": "execute_result"
    }
   ],
   "source": [
    "A = np.array([[1, 2, 3], [4, 5, 6], [7, 8, 9]])\n",
    "B = np.array([[0, 0, 0]])\n",
    "C = np.concatenate((A,B.T), axis=1)\n",
    "print (C)\n",
    "np.linalg.matrix_rank(A, 0.0001), np.linalg.matrix_rank(C, 0.0001)"
   ]
  },
  {
   "cell_type": "raw",
   "id": "f907fc59",
   "metadata": {},
   "source": [
    "Ранги расширенной и первоначальной матриц равны, и это значение меньше количества неизвестных, значит СЛАУ имеет бесконечное количество решений."
   ]
  },
  {
   "cell_type": "markdown",
   "id": "fa7a2ee3",
   "metadata": {},
   "source": [
    "## 4"
   ]
  },
  {
   "cell_type": "code",
   "execution_count": 49,
   "id": "6ce30f3c",
   "metadata": {},
   "outputs": [
    {
     "name": "stdout",
     "output_type": "stream",
     "text": [
      "L = \n",
      " [[ 1.    0.    0.  ]\n",
      " [ 0.25  1.    0.  ]\n",
      " [ 0.5  -0.4   1.  ]]\n",
      "U = \n",
      " [[  4.    28.    73.  ]\n",
      " [  0.    -5.   -15.25]\n",
      " [  0.     0.   -21.6 ]]\n",
      "Check: \n",
      " [[0. 0. 0.]\n",
      " [0. 0. 0.]\n",
      " [0. 0. 0.]]\n"
     ]
    },
    {
     "data": {
      "text/plain": [
       "array([ 4.81481481, -0.46296296,  0.03703704])"
      ]
     },
     "execution_count": 49,
     "metadata": {},
     "output_type": "execute_result"
    }
   ],
   "source": [
    "A = np.array([ [1, 2, 3], [2, 16, 21], [4, 28, 73]])\n",
    "P, L, U = scipy.linalg.lu(A)\n",
    "\n",
    "print(f'L = \\n {L}')\n",
    "print(f'U = \\n {U}')\n",
    "print(f'Check P * A = L * U: \\n {np.dot(P.transpose(), A) - np.dot(L, U)}')\n",
    "\n",
    "B = np.array([4, 3, 9])\n",
    "np.linalg.solve(A, B)"
   ]
  }
 ],
 "metadata": {
  "kernelspec": {
   "display_name": "Python 3 (ipykernel)",
   "language": "python",
   "name": "python3"
  },
  "language_info": {
   "codemirror_mode": {
    "name": "ipython",
    "version": 3
   },
   "file_extension": ".py",
   "mimetype": "text/x-python",
   "name": "python",
   "nbconvert_exporter": "python",
   "pygments_lexer": "ipython3",
   "version": "3.8.10"
  }
 },
 "nbformat": 4,
 "nbformat_minor": 5
}
